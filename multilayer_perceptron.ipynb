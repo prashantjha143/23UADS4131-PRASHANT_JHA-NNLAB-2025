{
 "cells": [
  {
   "cell_type": "code",
   "execution_count": 1,
   "id": "393faafb",
   "metadata": {},
   "outputs": [],
   "source": [
    "# WAP to implement a multi-layer perceptron (MLP) network with one hidden layer using numpy in Python. Demonstrate that it can learn the XOR Boolean function"
   ]
  },
  {
   "cell_type": "code",
   "execution_count": 2,
   "id": "6124914a",
   "metadata": {},
   "outputs": [],
   "source": [
    "import numpy as np"
   ]
  },
  {
   "cell_type": "code",
   "execution_count": 3,
   "id": "8819a2e1",
   "metadata": {},
   "outputs": [
    {
     "name": "stdout",
     "output_type": "stream",
     "text": [
      "Epoch 0, Loss: 0.250000\n",
      "Epoch 1000, Loss: 0.250000\n",
      "Epoch 2000, Loss: 0.250000\n",
      "Epoch 3000, Loss: 0.250000\n",
      "Epoch 4000, Loss: 0.250000\n",
      "Epoch 5000, Loss: 0.250000\n",
      "Epoch 6000, Loss: 0.250000\n",
      "Epoch 7000, Loss: 0.250000\n",
      "Epoch 8000, Loss: 0.250000\n",
      "Epoch 9000, Loss: 0.250000\n",
      "XOR Accuracy: 50.00%\n",
      "Predictions for XOR function:\n",
      "Input: [0 0], Predicted Output: 1\n",
      "Input: [0 1], Predicted Output: 1\n",
      "Input: [1 0], Predicted Output: 0\n",
      "Input: [1 1], Predicted Output: 0\n"
     ]
    }
   ],
   "source": [
    "class MultiLayerPerceptron:\n",
    "    def __init__(self, input_size, hidden_size, output_size, learning_rate=0.1, epochs=10000):\n",
    "        # Initialize weights and biases for input-to-hidden and hidden-to-output layers\n",
    "        self.weights_input_hidden = np.random.randn(input_size, hidden_size) * 0.01\n",
    "        self.bias_hidden = np.zeros(hidden_size)\n",
    "        self.weights_hidden_output = np.random.randn(hidden_size, output_size) * 0.01\n",
    "        self.bias_output = np.zeros(output_size)\n",
    "        self.learning_rate = learning_rate\n",
    "        self.epochs = epochs\n",
    "\n",
    "    def sigmoid(self, x):\n",
    "        return 1 / (1 + np.exp(-x))\n",
    "\n",
    "    def sigmoid_derivative(self, x):\n",
    "        return x * (1 - x)\n",
    "\n",
    "    def predict(self, X):\n",
    "        # Forward pass\n",
    "        hidden_input = np.dot(X, self.weights_input_hidden) + self.bias_hidden\n",
    "        hidden_output = self.sigmoid(hidden_input)\n",
    "        final_input = np.dot(hidden_output, self.weights_hidden_output) + self.bias_output\n",
    "        final_output = self.sigmoid(final_input)\n",
    "        return final_output\n",
    "\n",
    "    def fit(self, X, y):\n",
    "        for epoch in range(self.epochs):\n",
    "            # Forward pass\n",
    "            hidden_input = np.dot(X, self.weights_input_hidden) + self.bias_hidden\n",
    "            hidden_output = self.sigmoid(hidden_input)\n",
    "            final_input = np.dot(hidden_output, self.weights_hidden_output) + self.bias_output\n",
    "            final_output = self.sigmoid(final_input)\n",
    "\n",
    "            # Compute errors\n",
    "            output_error = y - final_output\n",
    "            output_delta = output_error * self.sigmoid_derivative(final_output)\n",
    "\n",
    "            hidden_error = np.dot(output_delta, self.weights_hidden_output.T)\n",
    "            hidden_delta = hidden_error * self.sigmoid_derivative(hidden_output)\n",
    "\n",
    "            # Update weights and biases\n",
    "            self.weights_hidden_output += self.learning_rate * np.dot(hidden_output.T, output_delta)\n",
    "            self.bias_output += self.learning_rate * np.sum(output_delta, axis=0)\n",
    "            self.weights_input_hidden += self.learning_rate * np.dot(X.T, hidden_delta)\n",
    "            self.bias_hidden += self.learning_rate * np.sum(hidden_delta, axis=0)\n",
    "\n",
    "            # Print loss every 1000 epochs\n",
    "            if epoch % 1000 == 0:\n",
    "                loss = np.mean(np.square(output_error))\n",
    "                print(f\"Epoch {epoch}, Loss: {loss:.6f}\")\n",
    "\n",
    "    def evaluate(self, X, y):\n",
    "        predictions = self.predict(X)\n",
    "        predictions = np.round(predictions)\n",
    "        accuracy = np.mean(predictions == y)\n",
    "        return accuracy\n",
    "\n",
    "# XOR dataset\n",
    "X_xor = np.array([[0, 0], [0, 1], [1, 0], [1, 1]])\n",
    "y_xor = np.array([[0], [1], [1], [0]])\n",
    "\n",
    "# Train MLP for XOR function\n",
    "mlp = MultiLayerPerceptron(input_size=2, hidden_size=2, output_size=1, learning_rate=0.1, epochs=10000)\n",
    "mlp.fit(X_xor, y_xor)\n",
    "\n",
    "# Evaluate the MLP\n",
    "accuracy = mlp.evaluate(X_xor, y_xor)\n",
    "print(f\"XOR Accuracy: {accuracy * 100:.2f}%\")\n",
    "\n",
    "# Display final predictions\n",
    "predictions = np.round(mlp.predict(X_xor))\n",
    "print(\"Predictions for XOR function:\")\n",
    "for input_val, pred in zip(X_xor, predictions):\n",
    "    print(f\"Input: {input_val}, Predicted Output: {int(pred[0])}\")\n"
   ]
  },
  {
   "cell_type": "code",
   "execution_count": null,
   "id": "89588ccf",
   "metadata": {},
   "outputs": [],
   "source": []
  }
 ],
 "metadata": {
  "kernelspec": {
   "display_name": "Python 3 (ipykernel)",
   "language": "python",
   "name": "python3"
  },
  "language_info": {
   "codemirror_mode": {
    "name": "ipython",
    "version": 3
   },
   "file_extension": ".py",
   "mimetype": "text/x-python",
   "name": "python",
   "nbconvert_exporter": "python",
   "pygments_lexer": "ipython3",
   "version": "3.11.5"
  }
 },
 "nbformat": 4,
 "nbformat_minor": 5
}
