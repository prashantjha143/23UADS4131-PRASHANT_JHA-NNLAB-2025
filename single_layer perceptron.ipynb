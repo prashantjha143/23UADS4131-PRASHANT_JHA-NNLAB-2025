{
 "cells": [
  {
   "cell_type": "code",
   "execution_count": 1,
   "id": "94f0c45b",
   "metadata": {},
   "outputs": [],
   "source": [
    "# WAP to implement the Perceptron Learning Algorithm using numpy in Python. Evaluate performance of a single perceptron for NAND and XOR truth tables as input dataset. \n"
   ]
  },
  {
   "cell_type": "code",
   "execution_count": 7,
   "id": "b5baa975",
   "metadata": {},
   "outputs": [
    {
     "name": "stdout",
     "output_type": "stream",
     "text": [
      "Training Perceptron for NAND Function\n",
      "NAND Accuracy: 100.00%\n",
      "\n",
      "Training Perceptron for XOR Function\n",
      "XOR Accuracy: 25.00%\n"
     ]
    }
   ],
   "source": [
    "import numpy as np\n",
    "\n",
    "class Perceptron:\n",
    "    def __init__(self, input_size, learning_rate=0.1, epochs=100):\n",
    "        # Initialize weights and bias\n",
    "        self.weights = np.random.randn(input_size) * 0.01\n",
    "        self.bias = 0\n",
    "        self.learning_rate = learning_rate\n",
    "        self.epochs = epochs\n",
    "\n",
    "    def activation(self, x):\n",
    "        # Step activation function\n",
    "        return 1 if x >= 0 else 0\n",
    "\n",
    "    def predict(self, inputs):\n",
    "        # Weighted sum and activation\n",
    "        weighted_sum = np.dot(inputs, self.weights) + self.bias\n",
    "        return self.activation(weighted_sum)\n",
    "\n",
    "    def fit(self, X, y):\n",
    "        for epoch in range(self.epochs):\n",
    "            total_error = 0\n",
    "            for inputs, label in zip(X, y):\n",
    "                prediction = self.predict(inputs)\n",
    "                error = label - prediction\n",
    "                # Update weights and bias\n",
    "                self.weights += self.learning_rate * error * inputs\n",
    "                self.bias += self.learning_rate * error\n",
    "                total_error += abs(error)\n",
    "            if total_error == 0:\n",
    "                break  # Stop early if no errors\n",
    "\n",
    "    def evaluate(self, X, y):\n",
    "        correct_predictions = 0\n",
    "        for inputs, label in zip(X, y):\n",
    "            if self.predict(inputs) == label:\n",
    "                correct_predictions += 1\n",
    "        accuracy = correct_predictions / len(y)\n",
    "        return accuracy\n",
    "\n",
    "# Define truth tables for NAND and XOR\n",
    "nand_input = np.array([[0, 0], [0, 1], [1, 0], [1, 1]])\n",
    "nand_output = np.array([1, 1, 1, 0])  # NAND truth table\n",
    "\n",
    "xor_input = np.array([[0, 0], [0, 1], [1, 0], [1, 1]])\n",
    "xor_output = np.array([0, 1, 1, 0])  # XOR truth table\n",
    "\n",
    "# NAND Perceptron\n",
    "print(\"Training Perceptron for NAND Function\")\n",
    "nand_perceptron = Perceptron(input_size=2, learning_rate=0.1, epochs=100)\n",
    "nand_perceptron.fit(nand_input, nand_output)\n",
    "nand_accuracy = nand_perceptron.evaluate(nand_input, nand_output)\n",
    "print(f\"NAND Accuracy: {nand_accuracy * 100:.2f}%\")\n",
    "\n",
    "# XOR Perceptron\n",
    "print(\"\\nTraining Perceptron for XOR Function\")\n",
    "xor_perceptron = Perceptron(input_size=2, learning_rate=0.1, epochs=100)\n",
    "xor_perceptron.fit(xor_input, xor_output)\n",
    "xor_accuracy = xor_perceptron.evaluate(xor_input, xor_output)\n",
    "print(f\"XOR Accuracy: {xor_accuracy * 100:.2f}%\")\n",
    "\n",
    "# XOR is not linearly separable, so a single perceptron will fail."
   ]
  },
  {
   "cell_type": "code",
   "execution_count": null,
   "id": "6887b2d4",
   "metadata": {},
   "outputs": [],
   "source": []
  }
 ],
 "metadata": {
  "kernelspec": {
   "display_name": "Python 3 (ipykernel)",
   "language": "python",
   "name": "python3"
  },
  "language_info": {
   "codemirror_mode": {
    "name": "ipython",
    "version": 3
   },
   "file_extension": ".py",
   "mimetype": "text/x-python",
   "name": "python",
   "nbconvert_exporter": "python",
   "pygments_lexer": "ipython3",
   "version": "3.11.5"
  }
 },
 "nbformat": 4,
 "nbformat_minor": 5
}
